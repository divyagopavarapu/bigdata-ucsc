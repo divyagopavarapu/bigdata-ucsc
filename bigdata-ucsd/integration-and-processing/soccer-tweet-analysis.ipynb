{
 "cells": [
  {
   "cell_type": "markdown",
   "metadata": {},
   "source": [
    "# Week 6 - Learning By Doing: Putting Spark to work\n",
    "\n",
    "# Assignment: Analysis using Spark"
   ]
  },
  {
   "cell_type": "code",
   "execution_count": 1,
   "metadata": {
    "collapsed": true
   },
   "outputs": [],
   "source": [
    "# Import and create a new SQLContext \n",
    "from pyspark.sql import SQLContext\n",
    "sqlContext = SQLContext(sc)"
   ]
  },
  {
   "cell_type": "code",
   "execution_count": 2,
   "metadata": {
    "collapsed": false
   },
   "outputs": [],
   "source": [
    "# Read the country CSV file into an RDD.\n",
    "country_lines = sc.textFile('file:///home/cloudera/Downloads/big-data-3/final-project/country-list.csv')"
   ]
  },
  {
   "cell_type": "code",
   "execution_count": 3,
   "metadata": {
    "collapsed": false
   },
   "outputs": [
    {
     "data": {
      "text/plain": [
       "['Afghanistan, AFG',\n",
       " 'Albania, ALB',\n",
       " 'Algeria, ALG',\n",
       " 'American Samoa, ASA',\n",
       " 'Andorra, AND']"
      ]
     },
     "execution_count": 3,
     "metadata": {},
     "output_type": "execute_result"
    }
   ],
   "source": [
    "country_lines.take(5)"
   ]
  },
  {
   "cell_type": "code",
   "execution_count": 4,
   "metadata": {
    "collapsed": false
   },
   "outputs": [
    {
     "data": {
      "text/plain": [
       "[('Afghanistan', 'AFG'),\n",
       " ('Albania', 'ALB'),\n",
       " ('Algeria', 'ALG'),\n",
       " ('American Samoa', 'ASA'),\n",
       " ('Andorra', 'AND')]"
      ]
     },
     "execution_count": 4,
     "metadata": {},
     "output_type": "execute_result"
    }
   ],
   "source": [
    "# Convert each line into a pair of words\n",
    "country_pair = country_lines.map(lambda line: tuple(line.split(', ')))\n",
    "country_pair.take(5)"
   ]
  },
  {
   "cell_type": "code",
   "execution_count": 5,
   "metadata": {
    "collapsed": false
   },
   "outputs": [
    {
     "data": {
      "text/plain": [
       "[['Afghanistan', 'AFG'],\n",
       " ['Albania', 'ALB'],\n",
       " ['Algeria', 'ALG'],\n",
       " ['American Samoa', 'ASA'],\n",
       " ['Andorra', 'AND']]"
      ]
     },
     "execution_count": 5,
     "metadata": {},
     "output_type": "execute_result"
    }
   ],
   "source": [
    "# Convert each pair of words into a tuple\n",
    "country_tuples = country_lines.map(lambda line: line.split(', '))\n",
    "country_tuples.take(5)"
   ]
  },
  {
   "cell_type": "code",
   "execution_count": 6,
   "metadata": {
    "collapsed": false
   },
   "outputs": [
    {
     "name": "stdout",
     "output_type": "stream",
     "text": [
      "root\n",
      " |-- country: string (nullable = true)\n",
      " |-- code: string (nullable = true)\n",
      "\n"
     ]
    }
   ],
   "source": [
    "# Create the DataFrame, look at schema and contents\n",
    "country_df = sqlContext.createDataFrame(country_tuples, ['country', 'code'])\n",
    "country_df.printSchema()"
   ]
  },
  {
   "cell_type": "code",
   "execution_count": 7,
   "metadata": {
    "collapsed": false
   },
   "outputs": [
    {
     "data": {
      "text/plain": [
       "[Row(country='Afghanistan', code='AFG'),\n",
       " Row(country='Albania', code='ALB'),\n",
       " Row(country='Algeria', code='ALG')]"
      ]
     },
     "execution_count": 7,
     "metadata": {},
     "output_type": "execute_result"
    }
   ],
   "source": [
    "country_df.take(3)"
   ]
  },
  {
   "cell_type": "code",
   "execution_count": 8,
   "metadata": {
    "collapsed": false
   },
   "outputs": [],
   "source": [
    "# Read tweets CSV file into RDD of lines\n",
    "tweets_lines = sc.textFile('file:///home/cloudera/Downloads/big-data-3/tweet-text.csv')"
   ]
  },
  {
   "cell_type": "code",
   "execution_count": 9,
   "metadata": {
    "collapsed": false
   },
   "outputs": [
    {
     "data": {
      "text/plain": [
       "['tweet_text',\n",
       " 'RT @ochocinco: I beat them all for 10 straight hours #FIFA16KING  https://t.co/BFnV6jfkBL',\n",
       " 'RT @NiallOfficial: @Louis_Tomlinson @socceraid when I retired from playing because of my knee . I went and did my uefa A badges in Dublin',\n",
       " 'RT @GameSeek: Follow & Retweet for your chance to win a copy of FIFA 17 Deluxe Edition (platform of your choice) in our #giveaway! https://…',\n",
       " '@CIVARAGI ...I was putting ffs but it autocorrected it too FIFA']"
      ]
     },
     "execution_count": 9,
     "metadata": {},
     "output_type": "execute_result"
    }
   ],
   "source": [
    "tweets_lines.take(5)"
   ]
  },
  {
   "cell_type": "code",
   "execution_count": 10,
   "metadata": {
    "collapsed": false
   },
   "outputs": [
    {
     "data": {
      "text/plain": [
       "13995"
      ]
     },
     "execution_count": 10,
     "metadata": {},
     "output_type": "execute_result"
    }
   ],
   "source": [
    "tweets_lines.count()"
   ]
  },
  {
   "cell_type": "code",
   "execution_count": 11,
   "metadata": {
    "collapsed": false
   },
   "outputs": [
    {
     "data": {
      "text/plain": [
       "[('', 3896),\n",
       " ('mobile', 1),\n",
       " ('#FridayNightTouchdown', 1),\n",
       " ('Just', 44),\n",
       " ('BONUSES,', 1)]"
      ]
     },
     "execution_count": 11,
     "metadata": {},
     "output_type": "execute_result"
    }
   ],
   "source": [
    "# Perform WordCount on the cleaned tweet texts. (note: this is several lines.)\n",
    "tweets_words = tweets_lines.flatMap(lambda line: line.split(' '))\n",
    "tweets_tuples = tweets_words.map(lambda word: (word, 1))\n",
    "tweets_counts = tweets_tuples.reduceByKey(lambda a, b: (a + b))\n",
    "tweets_counts.take(5)"
   ]
  },
  {
   "cell_type": "code",
   "execution_count": 12,
   "metadata": {
    "collapsed": false
   },
   "outputs": [
    {
     "name": "stdout",
     "output_type": "stream",
     "text": [
      "root\n",
      " |-- word: string (nullable = true)\n",
      " |-- count: long (nullable = true)\n",
      "\n"
     ]
    },
    {
     "data": {
      "text/plain": [
       "[Row(word='', count=3896),\n",
       " Row(word='mobile', count=1),\n",
       " Row(word='#FridayNightTouchdown', count=1)]"
      ]
     },
     "execution_count": 12,
     "metadata": {},
     "output_type": "execute_result"
    }
   ],
   "source": [
    "# Create the DataFrame of tweet word counts\n",
    "tweet_df = sqlContext.createDataFrame(tweets_counts, ['word', 'count'])\n",
    "tweet_df.printSchema()\n",
    "tweet_df.take(3)"
   ]
  },
  {
   "cell_type": "code",
   "execution_count": 13,
   "metadata": {
    "collapsed": false,
    "scrolled": true
   },
   "outputs": [
    {
     "data": {
      "text/plain": [
       "[Row(word='Thailand', count=1, country='Thailand', code='THA'),\n",
       " Row(word='Iceland', count=2, country='Iceland', code='ISL'),\n",
       " Row(word='Mexico', count=1, country='Mexico', code='MEX'),\n",
       " Row(word='Wales', count=19, country='Wales', code='WAL'),\n",
       " Row(word='Denmark', count=1, country='Denmark', code='DEN')]"
      ]
     },
     "execution_count": 13,
     "metadata": {},
     "output_type": "execute_result"
    }
   ],
   "source": [
    "# Join the country and tweet data frames (on the appropriate column)\n",
    "join_df = tweet_df.join(country_df, tweet_df.word == country_df.country)\n",
    "join_df.take(5)"
   ]
  },
  {
   "cell_type": "code",
   "execution_count": 14,
   "metadata": {
    "collapsed": false
   },
   "outputs": [
    {
     "data": {
      "text/plain": [
       "44"
      ]
     },
     "execution_count": 14,
     "metadata": {},
     "output_type": "execute_result"
    }
   ],
   "source": [
    "# Question 1: number of distinct countries mentioned\n",
    "join_df.count()"
   ]
  },
  {
   "cell_type": "code",
   "execution_count": 15,
   "metadata": {
    "collapsed": false
   },
   "outputs": [
    {
     "name": "stdout",
     "output_type": "stream",
     "text": [
      "+----------+\n",
      "|sum(count)|\n",
      "+----------+\n",
      "|       397|\n",
      "+----------+\n",
      "\n"
     ]
    }
   ],
   "source": [
    "# Question 2: number of countries mentioned in tweets.\n",
    "from pyspark.sql.functions import sum\n",
    "join_df.select(sum('count')).show()"
   ]
  },
  {
   "cell_type": "code",
   "execution_count": 16,
   "metadata": {
    "collapsed": false
   },
   "outputs": [
    {
     "name": "stdout",
     "output_type": "stream",
     "text": [
      "+-------+-----+-------+----+\n",
      "|   word|count|country|code|\n",
      "+-------+-----+-------+----+\n",
      "| Norway|   52| Norway| NOR|\n",
      "|Nigeria|   49|Nigeria| NGA|\n",
      "| France|   42| France| FRA|\n",
      "+-------+-----+-------+----+\n",
      "only showing top 3 rows\n",
      "\n"
     ]
    }
   ],
   "source": [
    "# Question 3: top three countries and their counts.\n",
    "from pyspark.sql.functions import desc\n",
    "join_df.sort(desc('count')).show(3)"
   ]
  },
  {
   "cell_type": "code",
   "execution_count": 17,
   "metadata": {
    "collapsed": false
   },
   "outputs": [
    {
     "name": "stdout",
     "output_type": "stream",
     "text": [
      "+-----+-----+-------+----+\n",
      "| word|count|country|code|\n",
      "+-----+-----+-------+----+\n",
      "|Wales|   19|  Wales| WAL|\n",
      "+-----+-----+-------+----+\n",
      "\n",
      "+-------+-----+-------+----+\n",
      "|   word|count|country|code|\n",
      "+-------+-----+-------+----+\n",
      "|Iceland|    2|Iceland| ISL|\n",
      "+-------+-----+-------+----+\n",
      "\n",
      "+-----+-----+-------+----+\n",
      "| word|count|country|code|\n",
      "+-----+-----+-------+----+\n",
      "|Japan|    5|  Japan| JPN|\n",
      "+-----+-----+-------+----+\n",
      "\n"
     ]
    }
   ],
   "source": [
    "# Question 4: counts for Wales, Iceland, and Japan.\n",
    "join_df[join_df.country == 'Wales'].show()\n",
    "join_df[join_df.country == 'Iceland'].show()\n",
    "join_df[join_df.country == 'Japan'].show()"
   ]
  },
  {
   "cell_type": "code",
   "execution_count": 18,
   "metadata": {
    "collapsed": false
   },
   "outputs": [
    {
     "name": "stdout",
     "output_type": "stream",
     "text": [
      "+-----------------+\n",
      "|       avg(count)|\n",
      "+-----------------+\n",
      "|9.022727272727273|\n",
      "+-----------------+\n",
      "\n"
     ]
    }
   ],
   "source": [
    "# Question 5: average number of times a country is mentioned in tweets.\n",
    "from pyspark.sql.functions import mean\n",
    "join_df.select(mean('count')).show()"
   ]
  }
 ],
 "metadata": {
  "kernelspec": {
   "display_name": "Python 3",
   "language": "python",
   "name": "python3"
  },
  "language_info": {
   "codemirror_mode": {
    "name": "ipython",
    "version": 3
   },
   "file_extension": ".py",
   "mimetype": "text/x-python",
   "name": "python",
   "nbconvert_exporter": "python",
   "pygments_lexer": "ipython3",
   "version": "3.5.1"
  }
 },
 "nbformat": 4,
 "nbformat_minor": 0
}
